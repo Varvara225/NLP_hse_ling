{
 "cells": [
  {
   "cell_type": "markdown",
   "id": "86eab873",
   "metadata": {},
   "source": [
    "В качестве тегсета я беру частеречный инвентарь из ридинга, так как он был разработан как раз для соответсвующей задачи: сравнения нескольких морфанализаторов. существительные (S), прилагательные (A), глаголы, в том числе причастия и деепричастия (V), предлоги (PR), союзы (CONJ) и сборная категория, включающая прочие несклоняемые слова: наречия, вводные слова, частицы, междометия (ADV). Я также стала размечать местоимения, однако без уточнения их разряда (PRO)."
   ]
  },
  {
   "cell_type": "markdown",
   "id": "7d9e64e9",
   "metadata": {},
   "source": [
    "Тексты были взяты с грамматической омонимией, как с одной из типовых ошибок, выявленных в соревновании \"Диалог 2010\"; аббревиатурой, которую система могла бы спутать с глаголами или словами других классов; дефисными написаниями, которые могли разбиваться/не разбиваться системой и дальше анализироваться, и с непроективными предложениями (стихи), так как я предположила, что нетипичная синтаксичсекая зависимость могла ввести морфанализатор в заблуждение."
   ]
  },
  {
   "cell_type": "code",
   "execution_count": 1,
   "id": "c5753266",
   "metadata": {},
   "outputs": [
    {
     "name": "stdout",
     "output_type": "stream",
     "text": [
      "Requirement already satisfied: nltk in /Library/Frameworks/Python.framework/Versions/3.9/lib/python3.9/site-packages (3.6.3)\n",
      "Requirement already satisfied: joblib in /Library/Frameworks/Python.framework/Versions/3.9/lib/python3.9/site-packages (from nltk) (1.0.1)\n",
      "Requirement already satisfied: regex in /Library/Frameworks/Python.framework/Versions/3.9/lib/python3.9/site-packages (from nltk) (2021.9.30)\n",
      "Requirement already satisfied: click in /Library/Frameworks/Python.framework/Versions/3.9/lib/python3.9/site-packages (from nltk) (8.0.1)\n",
      "Requirement already satisfied: tqdm in /Library/Frameworks/Python.framework/Versions/3.9/lib/python3.9/site-packages (from nltk) (4.62.3)\n",
      "\u001b[33mWARNING: You are using pip version 21.0.1; however, version 22.2.2 is available.\n",
      "You should consider upgrading via the '/Library/Frameworks/Python.framework/Versions/3.9/bin/python3.9 -m pip install --upgrade pip' command.\u001b[0m\n"
     ]
    }
   ],
   "source": [
    "!pip3 install nltk"
   ]
  },
  {
   "cell_type": "code",
   "execution_count": 71,
   "id": "f18ef654",
   "metadata": {},
   "outputs": [],
   "source": [
    "import nltk\n",
    "from nltk.tokenize import word_tokenize, sent_tokenize\n",
    "import csv"
   ]
  },
  {
   "cell_type": "code",
   "execution_count": 3,
   "id": "5efe59cf",
   "metadata": {},
   "outputs": [],
   "source": [
    "corpus = ['Перед нами была огромная пропасть.', 'Грибов там можно набрать пропасть.',\n",
    "     'Тьфу ты, пропасть, как надоел!', 'В таком месте легко пропасть.',\n",
    "     'Ты белых лебедей кормила, откинув тяжесть черных коc.',\n",
    "     'Я рядом плыл, сошлись кормила.', 'Закатный луч был странно кос.',\n",
    "     'Вдруг лебедей метнулась пара.', 'Не знаю, чья была вина.',\n",
    "     'Закат замлел за дымкой пара, алея, как поток вина.', \n",
    "     'Мгновенья двигались и стали.', 'Лишь ты паришь, свой свет струя.',\n",
    "     'Меж тем в реке – из сизой стали влачится за струей струя.',\n",
    "     'Небесное светило было закрыто дождевыми тучами, а еще вчера оно так ярко и ласково нам светило.',\n",
    "     'Если б мыло приходило по утрам ко мне в кровать и само меня бы мыло, хорошо бы это было.',\n",
    "     'Мы ели ершей у ели.', 'Их еле-еле у ели доели.', 'Чай пили в саду', 'Пили скорей дрова.',\n",
    "     'Белки прыгают по веткам, принесли орешки деткам!',\n",
    "     'Взбей яичные белки, и печенье испеки.', \n",
    "     'В ведерко руку окуни, не бойся: это окуни.',\n",
    "     'Из окна дуло.', 'Штирлиц закрыл окно.', 'Дуло исчезло.',\n",
    "     'Она научила меня печь блины', 'Натопили печь и напекли картошки.',\n",
    "     'Серьезную озабоченность продолжает вызывать транснациональная организованная преступность и связанная с ней контрабанда оружия, незаконная миграция и торговля людьми.',\n",
    "     'Рост потребления наркотиков представляет реальную угрозу социально-экономическому развитию стран Содружества.',\n",
    "     'К сожалению, приобретает международный характер и киберпреступность, которая посягает на национальную безопасность государств-участников СНГ.']"
   ]
  },
  {
   "cell_type": "code",
   "execution_count": 19,
   "id": "dde1353c",
   "metadata": {},
   "outputs": [],
   "source": [
    "tokens = []\n",
    "sw = [',', '.', ':', '!', '–']\n",
    "for sent in corpus:\n",
    "    tokens += [w for w in word_tokenize(sent) if w not in sw]  "
   ]
  },
  {
   "cell_type": "code",
   "execution_count": 58,
   "id": "b55aa099",
   "metadata": {},
   "outputs": [
    {
     "data": {
      "text/plain": [
       "210"
      ]
     },
     "execution_count": 58,
     "metadata": {},
     "output_type": "execute_result"
    }
   ],
   "source": [
    "len(tokens)"
   ]
  },
  {
   "cell_type": "code",
   "execution_count": 64,
   "id": "d4e4ed2a",
   "metadata": {},
   "outputs": [],
   "source": [
    "with open('prepre_tag.csv', 'w', encoding='utf-8') as w_file:\n",
    "    file_writer = csv.writer(w_file, delimiter=',')\n",
    "    for word in tokens:     \n",
    "        file_writer.writerow([word, ''])"
   ]
  },
  {
   "cell_type": "code",
   "execution_count": 33,
   "id": "f0927a37",
   "metadata": {},
   "outputs": [],
   "source": [
    "gold = []\n",
    "gold_mystem = []\n",
    "gold_spacy = []\n",
    "with open('annotated_tags.csv', 'r', encoding='utf-8') as r_file:\n",
    "    file_reader = csv.reader(r_file, delimiter=',')\n",
    "    for row in file_reader:\n",
    "        if row[0] == 'б':\n",
    "            gold.append(row[1])\n",
    "            gold_mystem.append(row[1])\n",
    "        elif '-' in row[0]:\n",
    "            gold.append(row[1])\n",
    "            gold_mystem.append(row[1])\n",
    "            for i in range(3):\n",
    "                gold_spacy.append(row[1])\n",
    "        else:\n",
    "            gold.append(row[1])\n",
    "            gold_mystem.append(row[1])\n",
    "            gold_spacy.append(row[1])\n",
    "            \n",
    "                   \n",
    "# mystem разбил дефисное слово \"госудств-участников\" по дефису (далее дефис не учитывался в разборе),\n",
    "# а \"еле-еле\", \"социально-экономическому\" – нет,\n",
    "# и определил у каждого элемента часть речи,\n",
    "# поэтому кол-во слов в разметке стало на 1 больше, чем в gold.\n",
    "# чтобы дальше провести сравнение, я решила задать еще один gold, который\n",
    "# будет отличаться от исходного на одно существительное\n",
    "# (\"госудств-участников\" – предпоследнее сущ перед \"СНГ\")\n",
    "gold_mystem.append('S')\n",
    "\n",
    "# spacy разбил каждое дефисное слово:\n",
    "# \"госудств-участников\", \"еле-еле\", \"социально-экономическому\" с учетом дефиса,\n",
    "# причем в только в случае \"госудств-участников\" и \"социально-экономическому\"\n",
    "# все три составных элемента носят частеречный тег всего сочетания,\n",
    "# то есть NOUN и ADJ соотвественно,\n",
    "# но не стал учитывать \"б\" в \"Если б мыло...\",\n",
    "# то есть кол-во слов в разборе стало на 5 больше, чем в gold"
   ]
  },
  {
   "cell_type": "code",
   "execution_count": 135,
   "id": "a54d5793",
   "metadata": {},
   "outputs": [
    {
     "name": "stdout",
     "output_type": "stream",
     "text": [
      "210\n",
      "211\n",
      "215\n"
     ]
    }
   ],
   "source": [
    "print(len(gold))\n",
    "print(len(gold_mystem))\n",
    "print(len(gold_spacy))"
   ]
  },
  {
   "cell_type": "markdown",
   "id": "f6ddefc0",
   "metadata": {},
   "source": [
    "# Pymorphy, mystem, spacy"
   ]
  },
  {
   "cell_type": "code",
   "execution_count": 16,
   "id": "90486d56",
   "metadata": {},
   "outputs": [
    {
     "name": "stdout",
     "output_type": "stream",
     "text": [
      "Requirement already satisfied: pymorphy2 in /Library/Frameworks/Python.framework/Versions/3.9/lib/python3.9/site-packages (0.9.1)\n",
      "Requirement already satisfied: dawg-python>=0.7.1 in /Library/Frameworks/Python.framework/Versions/3.9/lib/python3.9/site-packages (from pymorphy2) (0.7.2)\n",
      "Requirement already satisfied: pymorphy2-dicts-ru<3.0,>=2.4 in /Library/Frameworks/Python.framework/Versions/3.9/lib/python3.9/site-packages (from pymorphy2) (2.4.417127.4579844)\n",
      "Requirement already satisfied: docopt>=0.6 in /Library/Frameworks/Python.framework/Versions/3.9/lib/python3.9/site-packages (from pymorphy2) (0.6.2)\n",
      "\u001b[33mWARNING: You are using pip version 21.0.1; however, version 22.2.2 is available.\n",
      "You should consider upgrading via the '/Library/Frameworks/Python.framework/Versions/3.9/bin/python3.9 -m pip install --upgrade pip' command.\u001b[0m\n",
      "Requirement already satisfied: pymystem3 in /Library/Frameworks/Python.framework/Versions/3.9/lib/python3.9/site-packages (0.2.0)\n",
      "Requirement already satisfied: requests in /Library/Frameworks/Python.framework/Versions/3.9/lib/python3.9/site-packages (from pymystem3) (2.25.1)\n",
      "Requirement already satisfied: urllib3<1.27,>=1.21.1 in /Library/Frameworks/Python.framework/Versions/3.9/lib/python3.9/site-packages (from requests->pymystem3) (1.26.4)\n",
      "Requirement already satisfied: certifi>=2017.4.17 in /Library/Frameworks/Python.framework/Versions/3.9/lib/python3.9/site-packages (from requests->pymystem3) (2021.10.8)\n",
      "Requirement already satisfied: idna<3,>=2.5 in /Library/Frameworks/Python.framework/Versions/3.9/lib/python3.9/site-packages (from requests->pymystem3) (2.10)\n",
      "Requirement already satisfied: chardet<5,>=3.0.2 in /Library/Frameworks/Python.framework/Versions/3.9/lib/python3.9/site-packages (from requests->pymystem3) (4.0.0)\n",
      "\u001b[33mWARNING: You are using pip version 21.0.1; however, version 22.2.2 is available.\n",
      "You should consider upgrading via the '/Library/Frameworks/Python.framework/Versions/3.9/bin/python3.9 -m pip install --upgrade pip' command.\u001b[0m\n",
      "Requirement already satisfied: setuptools in /Library/Frameworks/Python.framework/Versions/3.9/lib/python3.9/site-packages (49.2.1)\n",
      "Requirement already satisfied: wheel in /Library/Frameworks/Python.framework/Versions/3.9/lib/python3.9/site-packages (0.37.1)\n",
      "\u001b[33mWARNING: You are using pip version 21.0.1; however, version 22.2.2 is available.\n",
      "You should consider upgrading via the '/Library/Frameworks/Python.framework/Versions/3.9/bin/python3.9 -m pip install --upgrade pip' command.\u001b[0m\n",
      "Requirement already satisfied: spacy in /Library/Frameworks/Python.framework/Versions/3.9/lib/python3.9/site-packages (3.2.4)\n",
      "Requirement already satisfied: preshed<3.1.0,>=3.0.2 in /Library/Frameworks/Python.framework/Versions/3.9/lib/python3.9/site-packages (from spacy) (3.0.6)\n",
      "Requirement already satisfied: jinja2 in /Library/Frameworks/Python.framework/Versions/3.9/lib/python3.9/site-packages (from spacy) (3.0.1)\n",
      "Requirement already satisfied: wasabi<1.1.0,>=0.8.1 in /Library/Frameworks/Python.framework/Versions/3.9/lib/python3.9/site-packages (from spacy) (0.9.1)\n",
      "Requirement already satisfied: spacy-legacy<3.1.0,>=3.0.8 in /Library/Frameworks/Python.framework/Versions/3.9/lib/python3.9/site-packages (from spacy) (3.0.9)\n",
      "Requirement already satisfied: srsly<3.0.0,>=2.4.1 in /Library/Frameworks/Python.framework/Versions/3.9/lib/python3.9/site-packages (from spacy) (2.4.3)\n",
      "Requirement already satisfied: blis<0.8.0,>=0.4.0 in /Library/Frameworks/Python.framework/Versions/3.9/lib/python3.9/site-packages (from spacy) (0.7.7)\n",
      "Requirement already satisfied: murmurhash<1.1.0,>=0.28.0 in /Library/Frameworks/Python.framework/Versions/3.9/lib/python3.9/site-packages (from spacy) (1.0.6)\n",
      "Requirement already satisfied: langcodes<4.0.0,>=3.2.0 in /Library/Frameworks/Python.framework/Versions/3.9/lib/python3.9/site-packages (from spacy) (3.3.0)\n",
      "Requirement already satisfied: cymem<2.1.0,>=2.0.2 in /Library/Frameworks/Python.framework/Versions/3.9/lib/python3.9/site-packages (from spacy) (2.0.6)\n",
      "Requirement already satisfied: click<8.1.0 in /Library/Frameworks/Python.framework/Versions/3.9/lib/python3.9/site-packages (from spacy) (8.0.1)\n",
      "Requirement already satisfied: tqdm<5.0.0,>=4.38.0 in /Library/Frameworks/Python.framework/Versions/3.9/lib/python3.9/site-packages (from spacy) (4.62.3)\n",
      "Requirement already satisfied: requests<3.0.0,>=2.13.0 in /Library/Frameworks/Python.framework/Versions/3.9/lib/python3.9/site-packages (from spacy) (2.25.1)\n",
      "Requirement already satisfied: pathy>=0.3.5 in /Library/Frameworks/Python.framework/Versions/3.9/lib/python3.9/site-packages (from spacy) (0.6.1)\n",
      "Requirement already satisfied: pydantic!=1.8,!=1.8.1,<1.9.0,>=1.7.4 in /Library/Frameworks/Python.framework/Versions/3.9/lib/python3.9/site-packages (from spacy) (1.8.2)\n",
      "Requirement already satisfied: typer<0.5.0,>=0.3.0 in /Library/Frameworks/Python.framework/Versions/3.9/lib/python3.9/site-packages (from spacy) (0.4.1)\n",
      "Requirement already satisfied: setuptools in /Library/Frameworks/Python.framework/Versions/3.9/lib/python3.9/site-packages (from spacy) (49.2.1)\n",
      "Requirement already satisfied: catalogue<2.1.0,>=2.0.6 in /Library/Frameworks/Python.framework/Versions/3.9/lib/python3.9/site-packages (from spacy) (2.0.7)\n",
      "Requirement already satisfied: packaging>=20.0 in /Library/Frameworks/Python.framework/Versions/3.9/lib/python3.9/site-packages (from spacy) (21.0)\n",
      "Requirement already satisfied: thinc<8.1.0,>=8.0.12 in /Library/Frameworks/Python.framework/Versions/3.9/lib/python3.9/site-packages (from spacy) (8.0.15)\n",
      "Requirement already satisfied: spacy-loggers<2.0.0,>=1.0.0 in /Library/Frameworks/Python.framework/Versions/3.9/lib/python3.9/site-packages (from spacy) (1.0.2)\n",
      "Requirement already satisfied: numpy>=1.15.0 in /Library/Frameworks/Python.framework/Versions/3.9/lib/python3.9/site-packages (from spacy) (1.21.2)\n",
      "Requirement already satisfied: pyparsing>=2.0.2 in /Library/Frameworks/Python.framework/Versions/3.9/lib/python3.9/site-packages (from packaging>=20.0->spacy) (2.4.7)\n",
      "Requirement already satisfied: smart-open<6.0.0,>=5.0.0 in /Library/Frameworks/Python.framework/Versions/3.9/lib/python3.9/site-packages (from pathy>=0.3.5->spacy) (5.2.1)\n",
      "Requirement already satisfied: typing-extensions>=3.7.4.3 in /Library/Frameworks/Python.framework/Versions/3.9/lib/python3.9/site-packages (from pydantic!=1.8,!=1.8.1,<1.9.0,>=1.7.4->spacy) (4.1.1)\n",
      "Requirement already satisfied: chardet<5,>=3.0.2 in /Library/Frameworks/Python.framework/Versions/3.9/lib/python3.9/site-packages (from requests<3.0.0,>=2.13.0->spacy) (4.0.0)\n",
      "Requirement already satisfied: idna<3,>=2.5 in /Library/Frameworks/Python.framework/Versions/3.9/lib/python3.9/site-packages (from requests<3.0.0,>=2.13.0->spacy) (2.10)\n",
      "Requirement already satisfied: certifi>=2017.4.17 in /Library/Frameworks/Python.framework/Versions/3.9/lib/python3.9/site-packages (from requests<3.0.0,>=2.13.0->spacy) (2021.10.8)\n",
      "Requirement already satisfied: urllib3<1.27,>=1.21.1 in /Library/Frameworks/Python.framework/Versions/3.9/lib/python3.9/site-packages (from requests<3.0.0,>=2.13.0->spacy) (1.26.4)\n",
      "Requirement already satisfied: MarkupSafe>=2.0 in /Library/Frameworks/Python.framework/Versions/3.9/lib/python3.9/site-packages (from jinja2->spacy) (2.0.1)\n",
      "\u001b[33mWARNING: You are using pip version 21.0.1; however, version 22.2.2 is available.\n",
      "You should consider upgrading via the '/Library/Frameworks/Python.framework/Versions/3.9/bin/python3.9 -m pip install --upgrade pip' command.\u001b[0m\n",
      "Collecting ru-core-news-sm==3.2.0\n",
      "  Downloading https://github.com/explosion/spacy-models/releases/download/ru_core_news_sm-3.2.0/ru_core_news_sm-3.2.0-py3-none-any.whl (16.4 MB)\n",
      "\u001b[K     |████████████████████████████████| 16.4 MB 12.0 MB/s eta 0:00:01\n",
      "\u001b[?25hRequirement already satisfied: spacy<3.3.0,>=3.2.0 in /Library/Frameworks/Python.framework/Versions/3.9/lib/python3.9/site-packages (from ru-core-news-sm==3.2.0) (3.2.4)\n",
      "Requirement already satisfied: pymorphy2>=0.9 in /Library/Frameworks/Python.framework/Versions/3.9/lib/python3.9/site-packages (from ru-core-news-sm==3.2.0) (0.9.1)\n",
      "Requirement already satisfied: dawg-python>=0.7.1 in /Library/Frameworks/Python.framework/Versions/3.9/lib/python3.9/site-packages (from pymorphy2>=0.9->ru-core-news-sm==3.2.0) (0.7.2)\n",
      "Requirement already satisfied: pymorphy2-dicts-ru<3.0,>=2.4 in /Library/Frameworks/Python.framework/Versions/3.9/lib/python3.9/site-packages (from pymorphy2>=0.9->ru-core-news-sm==3.2.0) (2.4.417127.4579844)\n",
      "Requirement already satisfied: docopt>=0.6 in /Library/Frameworks/Python.framework/Versions/3.9/lib/python3.9/site-packages (from pymorphy2>=0.9->ru-core-news-sm==3.2.0) (0.6.2)\n"
     ]
    },
    {
     "name": "stdout",
     "output_type": "stream",
     "text": [
      "Requirement already satisfied: setuptools in /Library/Frameworks/Python.framework/Versions/3.9/lib/python3.9/site-packages (from spacy<3.3.0,>=3.2.0->ru-core-news-sm==3.2.0) (49.2.1)\n",
      "Requirement already satisfied: langcodes<4.0.0,>=3.2.0 in /Library/Frameworks/Python.framework/Versions/3.9/lib/python3.9/site-packages (from spacy<3.3.0,>=3.2.0->ru-core-news-sm==3.2.0) (3.3.0)\n",
      "Requirement already satisfied: numpy>=1.15.0 in /Library/Frameworks/Python.framework/Versions/3.9/lib/python3.9/site-packages (from spacy<3.3.0,>=3.2.0->ru-core-news-sm==3.2.0) (1.21.2)\n",
      "Requirement already satisfied: thinc<8.1.0,>=8.0.12 in /Library/Frameworks/Python.framework/Versions/3.9/lib/python3.9/site-packages (from spacy<3.3.0,>=3.2.0->ru-core-news-sm==3.2.0) (8.0.15)\n",
      "Requirement already satisfied: spacy-loggers<2.0.0,>=1.0.0 in /Library/Frameworks/Python.framework/Versions/3.9/lib/python3.9/site-packages (from spacy<3.3.0,>=3.2.0->ru-core-news-sm==3.2.0) (1.0.2)\n",
      "Requirement already satisfied: pathy>=0.3.5 in /Library/Frameworks/Python.framework/Versions/3.9/lib/python3.9/site-packages (from spacy<3.3.0,>=3.2.0->ru-core-news-sm==3.2.0) (0.6.1)\n",
      "Requirement already satisfied: packaging>=20.0 in /Library/Frameworks/Python.framework/Versions/3.9/lib/python3.9/site-packages (from spacy<3.3.0,>=3.2.0->ru-core-news-sm==3.2.0) (21.0)\n",
      "Requirement already satisfied: tqdm<5.0.0,>=4.38.0 in /Library/Frameworks/Python.framework/Versions/3.9/lib/python3.9/site-packages (from spacy<3.3.0,>=3.2.0->ru-core-news-sm==3.2.0) (4.62.3)\n",
      "Requirement already satisfied: click<8.1.0 in /Library/Frameworks/Python.framework/Versions/3.9/lib/python3.9/site-packages (from spacy<3.3.0,>=3.2.0->ru-core-news-sm==3.2.0) (8.0.1)\n",
      "Requirement already satisfied: srsly<3.0.0,>=2.4.1 in /Library/Frameworks/Python.framework/Versions/3.9/lib/python3.9/site-packages (from spacy<3.3.0,>=3.2.0->ru-core-news-sm==3.2.0) (2.4.3)\n",
      "Requirement already satisfied: murmurhash<1.1.0,>=0.28.0 in /Library/Frameworks/Python.framework/Versions/3.9/lib/python3.9/site-packages (from spacy<3.3.0,>=3.2.0->ru-core-news-sm==3.2.0) (1.0.6)\n",
      "Requirement already satisfied: requests<3.0.0,>=2.13.0 in /Library/Frameworks/Python.framework/Versions/3.9/lib/python3.9/site-packages (from spacy<3.3.0,>=3.2.0->ru-core-news-sm==3.2.0) (2.25.1)\n",
      "Requirement already satisfied: typer<0.5.0,>=0.3.0 in /Library/Frameworks/Python.framework/Versions/3.9/lib/python3.9/site-packages (from spacy<3.3.0,>=3.2.0->ru-core-news-sm==3.2.0) (0.4.1)\n",
      "Requirement already satisfied: blis<0.8.0,>=0.4.0 in /Library/Frameworks/Python.framework/Versions/3.9/lib/python3.9/site-packages (from spacy<3.3.0,>=3.2.0->ru-core-news-sm==3.2.0) (0.7.7)\n",
      "Requirement already satisfied: wasabi<1.1.0,>=0.8.1 in /Library/Frameworks/Python.framework/Versions/3.9/lib/python3.9/site-packages (from spacy<3.3.0,>=3.2.0->ru-core-news-sm==3.2.0) (0.9.1)\n",
      "Requirement already satisfied: spacy-legacy<3.1.0,>=3.0.8 in /Library/Frameworks/Python.framework/Versions/3.9/lib/python3.9/site-packages (from spacy<3.3.0,>=3.2.0->ru-core-news-sm==3.2.0) (3.0.9)\n",
      "Requirement already satisfied: jinja2 in /Library/Frameworks/Python.framework/Versions/3.9/lib/python3.9/site-packages (from spacy<3.3.0,>=3.2.0->ru-core-news-sm==3.2.0) (3.0.1)\n",
      "Requirement already satisfied: preshed<3.1.0,>=3.0.2 in /Library/Frameworks/Python.framework/Versions/3.9/lib/python3.9/site-packages (from spacy<3.3.0,>=3.2.0->ru-core-news-sm==3.2.0) (3.0.6)\n",
      "Requirement already satisfied: pydantic!=1.8,!=1.8.1,<1.9.0,>=1.7.4 in /Library/Frameworks/Python.framework/Versions/3.9/lib/python3.9/site-packages (from spacy<3.3.0,>=3.2.0->ru-core-news-sm==3.2.0) (1.8.2)\n",
      "Requirement already satisfied: cymem<2.1.0,>=2.0.2 in /Library/Frameworks/Python.framework/Versions/3.9/lib/python3.9/site-packages (from spacy<3.3.0,>=3.2.0->ru-core-news-sm==3.2.0) (2.0.6)\n",
      "Requirement already satisfied: catalogue<2.1.0,>=2.0.6 in /Library/Frameworks/Python.framework/Versions/3.9/lib/python3.9/site-packages (from spacy<3.3.0,>=3.2.0->ru-core-news-sm==3.2.0) (2.0.7)\n",
      "Requirement already satisfied: pyparsing>=2.0.2 in /Library/Frameworks/Python.framework/Versions/3.9/lib/python3.9/site-packages (from packaging>=20.0->spacy<3.3.0,>=3.2.0->ru-core-news-sm==3.2.0) (2.4.7)\n",
      "Requirement already satisfied: smart-open<6.0.0,>=5.0.0 in /Library/Frameworks/Python.framework/Versions/3.9/lib/python3.9/site-packages (from pathy>=0.3.5->spacy<3.3.0,>=3.2.0->ru-core-news-sm==3.2.0) (5.2.1)\n",
      "Requirement already satisfied: typing-extensions>=3.7.4.3 in /Library/Frameworks/Python.framework/Versions/3.9/lib/python3.9/site-packages (from pydantic!=1.8,!=1.8.1,<1.9.0,>=1.7.4->spacy<3.3.0,>=3.2.0->ru-core-news-sm==3.2.0) (4.1.1)\n",
      "Requirement already satisfied: chardet<5,>=3.0.2 in /Library/Frameworks/Python.framework/Versions/3.9/lib/python3.9/site-packages (from requests<3.0.0,>=2.13.0->spacy<3.3.0,>=3.2.0->ru-core-news-sm==3.2.0) (4.0.0)\n",
      "Requirement already satisfied: certifi>=2017.4.17 in /Library/Frameworks/Python.framework/Versions/3.9/lib/python3.9/site-packages (from requests<3.0.0,>=2.13.0->spacy<3.3.0,>=3.2.0->ru-core-news-sm==3.2.0) (2021.10.8)\n",
      "Requirement already satisfied: urllib3<1.27,>=1.21.1 in /Library/Frameworks/Python.framework/Versions/3.9/lib/python3.9/site-packages (from requests<3.0.0,>=2.13.0->spacy<3.3.0,>=3.2.0->ru-core-news-sm==3.2.0) (1.26.4)\n",
      "Requirement already satisfied: idna<3,>=2.5 in /Library/Frameworks/Python.framework/Versions/3.9/lib/python3.9/site-packages (from requests<3.0.0,>=2.13.0->spacy<3.3.0,>=3.2.0->ru-core-news-sm==3.2.0) (2.10)\n",
      "Requirement already satisfied: MarkupSafe>=2.0 in /Library/Frameworks/Python.framework/Versions/3.9/lib/python3.9/site-packages (from jinja2->spacy<3.3.0,>=3.2.0->ru-core-news-sm==3.2.0) (2.0.1)\n",
      "\u001b[33mWARNING: You are using pip version 21.0.1; however, version 22.2.2 is available.\n",
      "You should consider upgrading via the '/usr/local/bin/python3 -m pip install --upgrade pip' command.\u001b[0m\n",
      "\u001b[38;5;2m✔ Download and installation successful\u001b[0m\n",
      "You can now load the package via spacy.load('ru_core_news_sm')\n"
     ]
    }
   ],
   "source": [
    "!pip3 install pymorphy2\n",
    "!pip3 install pymystem3\n",
    "!pip3 install setuptools wheel\n",
    "!pip3 install spacy\n",
    "!python3 -m spacy download ru_core_news_sm\n",
    "import spacy\n",
    "from pymystem3 import Mystem\n",
    "m = Mystem()\n",
    "from pymorphy2 import MorphAnalyzer\n",
    "morph = MorphAnalyzer()\n",
    "import re"
   ]
  },
  {
   "cell_type": "code",
   "execution_count": 17,
   "id": "9604bfa6",
   "metadata": {},
   "outputs": [],
   "source": [
    "mystem_result = []\n",
    "for sent in corpus:\n",
    "    ana = m.analyze(sent)\n",
    "    for word in ana:\n",
    "        if 'analysis' in word:\n",
    "            gr = word['analysis'][0]['gr']\n",
    "            pos = gr.split('=')[0].split(',')[0]\n",
    "            mystem_result.append(pos) # разметка Mystem"
   ]
  },
  {
   "cell_type": "code",
   "execution_count": 21,
   "id": "68db2bab",
   "metadata": {},
   "outputs": [],
   "source": [
    "pymorphy_result = []\n",
    "for token in tokens:\n",
    "    ana2 = morph.parse(token)[0]\n",
    "    find = re.findall('[A-Z]*', str(ana2.tag))\n",
    "    pymorphy_result.append(find[0]) # разметка Pymorphy"
   ]
  },
  {
   "cell_type": "code",
   "execution_count": 22,
   "id": "59c00141",
   "metadata": {},
   "outputs": [],
   "source": [
    "nlp = spacy.load(\"ru_core_news_sm\")"
   ]
  },
  {
   "cell_type": "code",
   "execution_count": 23,
   "id": "02aa907a",
   "metadata": {},
   "outputs": [],
   "source": [
    "spacy_result = []\n",
    "for sent in corpus:    \n",
    "    doc = nlp(sent)\n",
    "    exept = ['PUNCT', 'SPACE']\n",
    "    for word in doc:\n",
    "        if word.pos_ not in exept:\n",
    "            spacy_result.append(word.pos_) # разметка Spacy"
   ]
  },
  {
   "cell_type": "code",
   "execution_count": 47,
   "id": "fe03a684",
   "metadata": {},
   "outputs": [],
   "source": [
    "tags = {'S': ['NOUN', 'S', 'PROPN'],\n",
    "        'PR': ['ADP', 'PREP', 'PR'],\n",
    "        'ADV': ['PART', 'ADV', 'ADVB', 'PRCL', 'INTJ'],\n",
    "        'V': ['VERB', 'PRED', 'AUX', 'V', 'PRTF', 'PRTS', 'INFN', 'GRND'],\n",
    "        'A': ['ADJ', 'ADJF', 'A', 'ADJS'],\n",
    "        'CONJ': ['CCONJ', 'SCONJ', 'CONJ'],\n",
    "        'PRO': ['PRON', 'APRO', 'SPRO', 'ADVPRO', 'NPRO', 'DET']}"
   ]
  },
  {
   "cell_type": "code",
   "execution_count": 48,
   "id": "f80dc99f",
   "metadata": {},
   "outputs": [],
   "source": [
    "def convert(tag):\n",
    "    for key in tags:\n",
    "        if tag in tags[key]:\n",
    "            tag = key\n",
    "    return tag"
   ]
  },
  {
   "cell_type": "code",
   "execution_count": 49,
   "id": "31240c2e",
   "metadata": {},
   "outputs": [],
   "source": [
    "conv_pymorphy_result = []\n",
    "for tag in pymorphy_result:\n",
    "    conv_pymorphy_result.append(convert(tag))"
   ]
  },
  {
   "cell_type": "code",
   "execution_count": 50,
   "id": "73408184",
   "metadata": {},
   "outputs": [],
   "source": [
    "conv_mystem_result = []\n",
    "for tag in mystem_result:\n",
    "    conv_mystem_result.append(convert(tag))"
   ]
  },
  {
   "cell_type": "code",
   "execution_count": 51,
   "id": "3883c5e7",
   "metadata": {},
   "outputs": [],
   "source": [
    "conv_spacy_result = []\n",
    "for tag in spacy_result:\n",
    "    conv_spacy_result.append(convert(tag))"
   ]
  },
  {
   "cell_type": "markdown",
   "id": "846f4d59",
   "metadata": {},
   "source": [
    "# Accuracy"
   ]
  },
  {
   "cell_type": "code",
   "execution_count": 28,
   "id": "ac6cb1b3",
   "metadata": {},
   "outputs": [
    {
     "name": "stdout",
     "output_type": "stream",
     "text": [
      "Requirement already satisfied: sklearn in /Library/Frameworks/Python.framework/Versions/3.9/lib/python3.9/site-packages (0.0)\n",
      "Requirement already satisfied: scikit-learn in /Library/Frameworks/Python.framework/Versions/3.9/lib/python3.9/site-packages (from sklearn) (1.0.1)\n",
      "Requirement already satisfied: scipy>=1.1.0 in /Library/Frameworks/Python.framework/Versions/3.9/lib/python3.9/site-packages (from scikit-learn->sklearn) (1.7.2)\n",
      "Requirement already satisfied: numpy>=1.14.6 in /Library/Frameworks/Python.framework/Versions/3.9/lib/python3.9/site-packages (from scikit-learn->sklearn) (1.21.2)\n",
      "Requirement already satisfied: joblib>=0.11 in /Library/Frameworks/Python.framework/Versions/3.9/lib/python3.9/site-packages (from scikit-learn->sklearn) (1.0.1)\n",
      "Requirement already satisfied: threadpoolctl>=2.0.0 in /Library/Frameworks/Python.framework/Versions/3.9/lib/python3.9/site-packages (from scikit-learn->sklearn) (3.0.0)\n",
      "\u001b[33mWARNING: You are using pip version 21.0.1; however, version 22.2.2 is available.\n",
      "You should consider upgrading via the '/Library/Frameworks/Python.framework/Versions/3.9/bin/python3.9 -m pip install --upgrade pip' command.\u001b[0m\n"
     ]
    }
   ],
   "source": [
    "!pip3 install sklearn\n",
    "from sklearn.metrics import accuracy_score"
   ]
  },
  {
   "cell_type": "code",
   "execution_count": 53,
   "id": "947b69e4",
   "metadata": {},
   "outputs": [
    {
     "name": "stdout",
     "output_type": "stream",
     "text": [
      "RESULTS:\n",
      "Pymorphy\n",
      "Accuracy: 0.8381\n"
     ]
    }
   ],
   "source": [
    "print(\"RESULTS:\")\n",
    "print('Pymorphy')\n",
    "print(\"Accuracy: %.4f\" % accuracy_score(conv_pymorphy_result, gold)) "
   ]
  },
  {
   "cell_type": "code",
   "execution_count": 57,
   "id": "21363dc8",
   "metadata": {},
   "outputs": [
    {
     "name": "stdout",
     "output_type": "stream",
     "text": [
      "RESULTS:\n",
      "Spacy\n",
      "Accuracy: 0.8791\n"
     ]
    }
   ],
   "source": [
    "print(\"RESULTS:\")\n",
    "print('Spacy')\n",
    "print(\"Accuracy: %.4f\" % accuracy_score(conv_spacy_result, gold_spacy)) "
   ]
  },
  {
   "cell_type": "code",
   "execution_count": 54,
   "id": "a1159ba8",
   "metadata": {},
   "outputs": [
    {
     "name": "stdout",
     "output_type": "stream",
     "text": [
      "RESULTS:\n",
      "Mystem\n",
      "Accuracy: 0.8957\n"
     ]
    }
   ],
   "source": [
    "print(\"RESULTS:\")\n",
    "print('Mystem')\n",
    "print(\"Accuracy: %.4f\" % accuracy_score(conv_mystem_result, gold_mystem)) "
   ]
  },
  {
   "cell_type": "markdown",
   "id": "9bdb4e66",
   "metadata": {},
   "source": [
    "# Chunker"
   ]
  },
  {
   "cell_type": "markdown",
   "id": "c77ffb47",
   "metadata": {},
   "source": [
    "Наречие *очень* встречается и с положительными, и с негативными отзывами, поэтому, чтобы различать случаи, предлагаю рассматреть сочетания, которые более тяготеют к отрицательному: очень + не + краткое A(довольна) или V. Так же вниманию стоит уделить такие сочетания как V + всего, так как ярко выраженного негатива нет, однако касательно робот-пылесосов работает/проработал всего.../заряд держит всего... – частый способ выразить недовольство товаром. Также такие сочетания как: не + V + раньше (жалею, что не появилось раньше/не знала  раньше, что такие бывают), так как по подсчету негативных слов засчет *не* тут больше, а смысл положительный."
   ]
  },
  {
   "cell_type": "code",
   "execution_count": 133,
   "id": "9e7ffa3c",
   "metadata": {},
   "outputs": [],
   "source": [
    "def chunker(text):\n",
    "    tokens =  [token.lower() for token in word_tokenize(text) if token.isalpha()]\n",
    "    pos_tags = []\n",
    "    for sent in sent_tokenize(text):\n",
    "        ana = m.analyze(sent)\n",
    "        for word in ana:\n",
    "            if 'analysis' in word:\n",
    "                gr = word['analysis'][0]['gr']\n",
    "                pos = gr.split('=')[0].split(',')[0]\n",
    "                pos_tags.append(pos)\n",
    "    d = {}\n",
    "    for i in range(len(tokens)):\n",
    "        d[tokens[i]] = pos_tags[i]\n",
    "    ngrams = []\n",
    "    for token in tokens:\n",
    "        if token == 'очень' and tokens[tokens.index('очень') + 1] == 'не' and d[tokens[tokens.index('очень') + 2]] == 'V':\n",
    "            ngrams.append(token + ' ' + tokens[tokens.index('очень') + 1] + ' ' + tokens[tokens.index('очень') + 2])\n",
    "        elif token == 'очень' and tokens[tokens.index('очень') + 1] == 'не' and d[tokens[tokens.index('очень') + 2]] == 'A':\n",
    "            ngrams.append(token + ' ' + tokens[tokens.index('очень') + 1] + ' ' + tokens[tokens.index('очень') + 2])\n",
    "        elif token == 'всего' and d[tokens[tokens.index('всего') - 1]] == 'V':\n",
    "            ngrams.append(tokens[tokens.index('всего') - 1] + ' ' + token)\n",
    "        elif token == 'раньше' and d[tokens[tokens.index('раньше') - 1]] == 'V' and tokens[tokens.index('раньше') - 2] == 'не':\n",
    "            ngrams.append(tokens[tokens.index('раньше') - 2] + ' ' + tokens[tokens.index('раньше') - 1] + ' ' + token)\n",
    "    return ngrams"
   ]
  }
 ],
 "metadata": {
  "kernelspec": {
   "display_name": "Python 3 (ipykernel)",
   "language": "python",
   "name": "python3"
  },
  "language_info": {
   "codemirror_mode": {
    "name": "ipython",
    "version": 3
   },
   "file_extension": ".py",
   "mimetype": "text/x-python",
   "name": "python",
   "nbconvert_exporter": "python",
   "pygments_lexer": "ipython3",
   "version": "3.9.2"
  }
 },
 "nbformat": 4,
 "nbformat_minor": 5
}

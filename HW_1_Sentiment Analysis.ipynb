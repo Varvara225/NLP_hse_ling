{
 "cells": [
  {
   "cell_type": "code",
   "execution_count": 189,
   "id": "0ba5080e",
   "metadata": {},
   "outputs": [
    {
     "name": "stdout",
     "output_type": "stream",
     "text": [
      "Requirement already satisfied: beautifulsoup4 in /Library/Frameworks/Python.framework/Versions/3.9/lib/python3.9/site-packages (4.10.0)\n",
      "Requirement already satisfied: soupsieve>1.2 in /Library/Frameworks/Python.framework/Versions/3.9/lib/python3.9/site-packages (from beautifulsoup4) (2.3.1)\n",
      "\u001b[33mWARNING: You are using pip version 21.0.1; however, version 22.2.2 is available.\n",
      "You should consider upgrading via the '/Library/Frameworks/Python.framework/Versions/3.9/bin/python3.9 -m pip install --upgrade pip' command.\u001b[0m\n",
      "Requirement already satisfied: requests in /Library/Frameworks/Python.framework/Versions/3.9/lib/python3.9/site-packages (2.25.1)\n",
      "Requirement already satisfied: chardet<5,>=3.0.2 in /Library/Frameworks/Python.framework/Versions/3.9/lib/python3.9/site-packages (from requests) (4.0.0)\n",
      "Requirement already satisfied: certifi>=2017.4.17 in /Library/Frameworks/Python.framework/Versions/3.9/lib/python3.9/site-packages (from requests) (2021.10.8)\n",
      "Requirement already satisfied: urllib3<1.27,>=1.21.1 in /Library/Frameworks/Python.framework/Versions/3.9/lib/python3.9/site-packages (from requests) (1.26.4)\n",
      "Requirement already satisfied: idna<3,>=2.5 in /Library/Frameworks/Python.framework/Versions/3.9/lib/python3.9/site-packages (from requests) (2.10)\n",
      "\u001b[33mWARNING: You are using pip version 21.0.1; however, version 22.2.2 is available.\n",
      "You should consider upgrading via the '/Library/Frameworks/Python.framework/Versions/3.9/bin/python3.9 -m pip install --upgrade pip' command.\u001b[0m\n"
     ]
    }
   ],
   "source": [
    "!pip3 install beautifulsoup4\n",
    "!pip3 install requests"
   ]
  },
  {
   "cell_type": "code",
   "execution_count": 190,
   "id": "95ccb287",
   "metadata": {},
   "outputs": [],
   "source": [
    "import requests\n",
    "from bs4 import BeautifulSoup"
   ]
  },
  {
   "cell_type": "markdown",
   "id": "b8dfee43",
   "metadata": {},
   "source": [
    "# Сбор данных"
   ]
  },
  {
   "cell_type": "markdown",
   "id": "8c2b54d9",
   "metadata": {},
   "source": [
    "Данные – отзывы на робот-пылесосы.\n",
    "Особенность отзывов состоит в том, что они состоят из абзаца достоинст, недостатков и комментария. \n",
    "Для формирования списка характерных слов для негативных и положительных отзывов я решила учитывать помимо комментария еще и описание недостатков и достоинств соотвественно. Тем самым увеличила корпус отзывов, так как бывает, что пользователи весь негатив или одобрение помещают в эти разделы. Для тестовых отзывов я учитываю только комментарии."
   ]
  },
  {
   "cell_type": "code",
   "execution_count": 295,
   "id": "88a90705",
   "metadata": {},
   "outputs": [],
   "source": [
    "train_urls = ['https://peredpokupkoy.ru/otzyvy-xrobot-xr-510d/', \n",
    "        'https://peredpokupkoy.ru/otzyvy-xrobot-xr-510f/',\n",
    "        'https://peredpokupkoy.ru/otzyvy-xrobot-strider/',\n",
    "        'https://peredpokupkoy.ru/otzyvy-xrobot-virage/',\n",
    "        'https://peredpokupkoy.ru/otzyvy-pullman-pl-1016/']\n",
    "test_url = 'https://peredpokupkoy.ru/otzyvy-irobot-scooba-450/'"
   ]
  },
  {
   "cell_type": "code",
   "execution_count": 192,
   "id": "fbacf24d",
   "metadata": {},
   "outputs": [],
   "source": [
    "def get_parser(url):\n",
    "    response = requests.get(url)\n",
    "    soup = BeautifulSoup(response.text, 'html.parser')\n",
    "    comment_content = soup.find_all('div', {'class': 'cm_single_comment_content'})\n",
    "    return comment_content    "
   ]
  },
  {
   "cell_type": "code",
   "execution_count": 193,
   "id": "d20ce5a7",
   "metadata": {},
   "outputs": [],
   "source": [
    "def train_get_neg(comments):\n",
    "    neg_comments = []\n",
    "    for comment in comments:\n",
    "        if comment.find('meta', content='1', itemprop='ratingValue') or comment.find('meta', content='2', itemprop='ratingValue') or comment.find('meta', content='3', itemprop='ratingValue') is not None:\n",
    "            if comment.find('div', class_='cm_single_comment_limitations_ins') and comment.find('div', class_='cm_single_comment_message_ins') is not None:\n",
    "                get_lim = comment.find('div', class_='cm_single_comment_limitations_ins')\n",
    "                neg_comments.append(get_lim.text)               \n",
    "                get_comment = comment.find('div', class_='cm_single_comment_message_ins')\n",
    "                neg_comments.append(get_comment.text)\n",
    "            elif comment.find('div', class_='cm_single_comment_limitations_ins') is not None:\n",
    "                get_lim = comment.find('div', class_='cm_single_comment_limitations_ins')\n",
    "                neg_comments.append(get_lim.text) \n",
    "            elif comment.find('div', class_='cm_single_comment_message_ins') is not None:\n",
    "                get_comment = comment.find('div', class_='cm_single_comment_message_ins')\n",
    "                neg_comments.append(get_comment.text)                \n",
    "    return neg_comments"
   ]
  },
  {
   "cell_type": "code",
   "execution_count": 194,
   "id": "b28feb02",
   "metadata": {},
   "outputs": [],
   "source": [
    "def get_neg(comments):\n",
    "    neg_comments = []\n",
    "    for comment in comments:\n",
    "        if comment.find('meta', content='1', itemprop='ratingValue') or comment.find('meta', content='2', itemprop='ratingValue') or comment.find('meta', content='3', itemprop='ratingValue')  is not None:              \n",
    "            if comment.find('div', class_='cm_single_comment_message_ins') is not None:\n",
    "                get_comment = comment.find('div', class_='cm_single_comment_message_ins')\n",
    "                neg_comments.append(get_comment.text)\n",
    "    return neg_comments"
   ]
  },
  {
   "cell_type": "code",
   "execution_count": 195,
   "id": "13b22e71",
   "metadata": {},
   "outputs": [],
   "source": [
    "def train_get_pos(comments):\n",
    "    pos_comments = []\n",
    "    for comment in comments:\n",
    "        if comment.find('meta', content='4', itemprop='ratingValue') or comment.find('meta', content='5', itemprop='ratingValue') is not None:\n",
    "            if comment.find('div', class_='cm_single_comment_dignity_ins') and comment.find('div', class_='cm_single_comment_message_ins') is not None:\n",
    "                get_dig = comment.find('div', class_='cm_single_comment_dignity_ins')\n",
    "                pos_comments.append(get_dig.text)\n",
    "                get_comment = comment.find('div', class_='cm_single_comment_message_ins')\n",
    "                pos_comments.append(get_comment.text)\n",
    "            elif comment.find('div', class_='cm_single_comment_dignity_ins') is not None:\n",
    "                get_dig = comment.find('div', class_='cm_single_comment_dignity_ins')\n",
    "                pos_comments.append(get_dig.text)\n",
    "            elif comment.find('div', class_='cm_single_comment_message_ins') is not None:\n",
    "                get_comment = comment.find('div', class_='cm_single_comment_message_ins')\n",
    "                pos_comments.append(get_comment.text)                \n",
    "    return pos_comments"
   ]
  },
  {
   "cell_type": "code",
   "execution_count": 196,
   "id": "8a2bec02",
   "metadata": {},
   "outputs": [],
   "source": [
    "def get_pos(comments):\n",
    "    pos_comments = []\n",
    "    for comment in comments:\n",
    "        if comment.find('meta', content='4', itemprop='ratingValue') or comment.find('meta', content='5', itemprop='ratingValue') is not None:\n",
    "            if comment.find('div', class_='cm_single_comment_message_ins') is not None:\n",
    "                get_comment = comment.find('div', class_='cm_single_comment_message_ins')\n",
    "                pos_comments.append(get_comment.text)\n",
    "    return pos_comments"
   ]
  },
  {
   "cell_type": "code",
   "execution_count": 197,
   "id": "ed50dbcb",
   "metadata": {},
   "outputs": [],
   "source": [
    "train_neg = []\n",
    "train_pos = []\n",
    "for url in train_urls:\n",
    "    comments = get_parser(url)\n",
    "    neg_comments = train_get_neg(comments)\n",
    "    train_neg += neg_comments\n",
    "    pos_comments = train_get_pos(comments)\n",
    "    train_pos += pos_comments"
   ]
  },
  {
   "cell_type": "code",
   "execution_count": 198,
   "id": "cf222bc1",
   "metadata": {},
   "outputs": [
    {
     "data": {
      "text/plain": [
       "92"
      ]
     },
     "execution_count": 198,
     "metadata": {},
     "output_type": "execute_result"
    }
   ],
   "source": [
    "len(train_neg)"
   ]
  },
  {
   "cell_type": "code",
   "execution_count": 199,
   "id": "ac94ee25",
   "metadata": {},
   "outputs": [
    {
     "data": {
      "text/plain": [
       "224"
      ]
     },
     "execution_count": 199,
     "metadata": {},
     "output_type": "execute_result"
    }
   ],
   "source": [
    "len(train_pos)"
   ]
  },
  {
   "cell_type": "markdown",
   "id": "fc757e76",
   "metadata": {},
   "source": [
    "Для дальнейших действий я буду использовать 90 негативных и 90 положительных комментариев."
   ]
  },
  {
   "cell_type": "markdown",
   "id": "4ddd88ee",
   "metadata": {},
   "source": [
    "# Токенизация и начальная форма"
   ]
  },
  {
   "cell_type": "code",
   "execution_count": 200,
   "id": "38e4b8f4",
   "metadata": {},
   "outputs": [
    {
     "name": "stdout",
     "output_type": "stream",
     "text": [
      "Requirement already satisfied: nltk in /Library/Frameworks/Python.framework/Versions/3.9/lib/python3.9/site-packages (3.6.3)\n",
      "Requirement already satisfied: click in /Library/Frameworks/Python.framework/Versions/3.9/lib/python3.9/site-packages (from nltk) (8.0.1)\n",
      "Requirement already satisfied: regex in /Library/Frameworks/Python.framework/Versions/3.9/lib/python3.9/site-packages (from nltk) (2021.9.30)\n",
      "Requirement already satisfied: tqdm in /Library/Frameworks/Python.framework/Versions/3.9/lib/python3.9/site-packages (from nltk) (4.62.3)\n",
      "Requirement already satisfied: joblib in /Library/Frameworks/Python.framework/Versions/3.9/lib/python3.9/site-packages (from nltk) (1.0.1)\n",
      "\u001b[33mWARNING: You are using pip version 21.0.1; however, version 22.2.2 is available.\n",
      "You should consider upgrading via the '/Library/Frameworks/Python.framework/Versions/3.9/bin/python3.9 -m pip install --upgrade pip' command.\u001b[0m\n",
      "Requirement already satisfied: pymystem3 in /Library/Frameworks/Python.framework/Versions/3.9/lib/python3.9/site-packages (0.2.0)\n",
      "Requirement already satisfied: requests in /Library/Frameworks/Python.framework/Versions/3.9/lib/python3.9/site-packages (from pymystem3) (2.25.1)\n",
      "Requirement already satisfied: idna<3,>=2.5 in /Library/Frameworks/Python.framework/Versions/3.9/lib/python3.9/site-packages (from requests->pymystem3) (2.10)\n",
      "Requirement already satisfied: certifi>=2017.4.17 in /Library/Frameworks/Python.framework/Versions/3.9/lib/python3.9/site-packages (from requests->pymystem3) (2021.10.8)\n",
      "Requirement already satisfied: urllib3<1.27,>=1.21.1 in /Library/Frameworks/Python.framework/Versions/3.9/lib/python3.9/site-packages (from requests->pymystem3) (1.26.4)\n",
      "Requirement already satisfied: chardet<5,>=3.0.2 in /Library/Frameworks/Python.framework/Versions/3.9/lib/python3.9/site-packages (from requests->pymystem3) (4.0.0)\n",
      "\u001b[33mWARNING: You are using pip version 21.0.1; however, version 22.2.2 is available.\n",
      "You should consider upgrading via the '/Library/Frameworks/Python.framework/Versions/3.9/bin/python3.9 -m pip install --upgrade pip' command.\u001b[0m\n"
     ]
    }
   ],
   "source": [
    "!pip3 install nltk\n",
    "!pip3 install pymystem3"
   ]
  },
  {
   "cell_type": "code",
   "execution_count": 201,
   "id": "444c01e3",
   "metadata": {},
   "outputs": [],
   "source": [
    "import nltk\n",
    "import collections\n",
    "from nltk.tokenize import word_tokenize\n",
    "from collections import Counter \n",
    "from pymystem3 import Mystem\n",
    "m = Mystem()"
   ]
  },
  {
   "cell_type": "markdown",
   "id": "80ab9b7b",
   "metadata": {},
   "source": [
    "Для учитывания частотности характерных слов я сначала взяла из бибилиотеки nltk список стоп-слов для русского языка, а потом начала дополнять этот список словами, котрые оказались частотными для обоих множеств и которые характерны скорее для описания роботов-пылесосов в целом, чем конкретно для положительных или отрицательных отзывов."
   ]
  },
  {
   "cell_type": "code",
   "execution_count": 269,
   "id": "12d744d5",
   "metadata": {},
   "outputs": [],
   "source": [
    "sw = [ 'ножка', 'контейнер', 'зарядка', 'время', 'один', 'база', 'весь', 'щетка','работа',\n",
    "      'день', 'пыль', 'пол', 'дом', 'модель', 'мочь', 'просто', 'очень', 'но', 'убирать',\n",
    "      'ковер', 'мусор', 'свой', 'волос', 'шерсть', 'работать', 'ну', 'комната', 'говорить',\n",
    "      'который', 'пылесос', 'это', 'робот', 'квартира', 'и', 'в', 'во', 'что',\n",
    "      'он', 'на', 'я', 'с', 'со', 'как', 'а', 'то', 'все', 'она', 'так', 'его', 'да', 'ты',\n",
    "      'к', 'у', 'же', 'вы', 'за', 'бы', 'по', 'ее', 'мне', 'было', 'вот', 'от', 'меня',\n",
    "      'еще', 'о', 'из', 'ему', 'теперь', 'когда', 'даже', 'вдруг', 'ли', 'если', 'уже',\n",
    "      'или', 'быть', 'был', 'него', 'до', 'вас', 'нибудь', 'опять', 'вам', 'ведь', 'там',\n",
    "      'потом', 'себя', 'ей', 'может', 'они', 'тут', 'где', 'есть', 'надо', 'ней', 'для',\n",
    "      'мы', 'тебя', 'их', 'чем', 'была', 'сам', 'чтоб', 'без', 'будто', 'чего', 'раз',\n",
    "      'тоже', 'себе', 'под', 'будет', 'ж', 'тогда', 'кто', 'этот', 'того', 'потому',\n",
    "      'этого', 'какой', 'совсем', 'ним', 'здесь', 'этом', 'мой', 'тем', 'чтобы', 'нее',\n",
    "      'сейчас', 'были', 'куда', 'зачем', 'при', 'два', 'об', 'другой', 'хоть', 'после',\n",
    "      'над', 'больше', 'тот', 'через', 'эти', 'нас', 'про', 'них', 'какая',\n",
    "      'разве', 'три', 'эту', 'моя', 'впрочем', 'свою', 'этой', 'перед', 'иногда', 'чуть',\n",
    "      'том', 'такой', 'им', 'всегда', 'всю', 'между', 'чистить', 'стоять', 'стул', 'влажный',\n",
    "      'только','большой','угол','пылесосить', 'место', 'час', 'мебель','уровень','итог',\n",
    "      'можно', 'стена', 'иметь', 'каждый', 'фильтр', 'много', 'уборка' ]"
   ]
  },
  {
   "cell_type": "code",
   "execution_count": 229,
   "id": "decbfc76",
   "metadata": {},
   "outputs": [],
   "source": [
    "# создаем частотный словарь, при этом лемматизируем слова, токенизируем и не учитываем стоп-слова\n",
    "def collect_freqlist(comments, max_len=100):\n",
    "    freqlist = Counter()\n",
    "    for text in comments:\n",
    "        lemmas = m.lemmatize(text)\n",
    "        norm = ''.join(lemmas)\n",
    "        words = [w.lower() for w in word_tokenize(norm) if w.isalpha()]\n",
    "        filtered = [w for w in words if w not in sw]\n",
    "        for word in filtered:\n",
    "            freqlist[word] += 1\n",
    "    return dict(freqlist.most_common(max_len))"
   ]
  },
  {
   "cell_type": "code",
   "execution_count": 106,
   "id": "8d590e3c",
   "metadata": {},
   "outputs": [],
   "source": [
    "# находим общие для двух множеств частотные слова, чтобы добавить в стоп-слова\n",
    "same_keys = []\n",
    "for key in collect_freqlist(train_neg).keys():\n",
    "    for k in collect_freqlist(train_pos).keys():\n",
    "        if key == k:\n",
    "            same_keys.append(key)          "
   ]
  },
  {
   "cell_type": "markdown",
   "id": "209fcf1c",
   "metadata": {},
   "source": [
    "В процессе составления характерных слов получилось, что *не* – самое частотное слово и для положительных, и для негативных отзывов, *хороший* и *хорошо* тоже встретились в обоих списках. Для повышения качества определения, я оставила *не* только в списке негативных отзывов, а *хороший*, *хорошо* – только в положительном."
   ]
  },
  {
   "cell_type": "code",
   "execution_count": 313,
   "id": "21bd72cb",
   "metadata": {},
   "outputs": [],
   "source": [
    "clean_pos = collect_freqlist(train_pos[0:90])"
   ]
  },
  {
   "cell_type": "code",
   "execution_count": 314,
   "id": "5bbb663c",
   "metadata": {},
   "outputs": [
    {
     "data": {
      "text/plain": [
       "131"
      ]
     },
     "execution_count": 314,
     "metadata": {},
     "output_type": "execute_result"
    }
   ],
   "source": [
    "clean_pos.pop('не')"
   ]
  },
  {
   "cell_type": "code",
   "execution_count": 316,
   "id": "db3eeb0d",
   "metadata": {},
   "outputs": [],
   "source": [
    "clean_neg = collect_freqlist(train_neg[0:90])"
   ]
  },
  {
   "cell_type": "code",
   "execution_count": 317,
   "id": "e61f1d86",
   "metadata": {},
   "outputs": [
    {
     "data": {
      "text/plain": [
       "14"
      ]
     },
     "execution_count": 317,
     "metadata": {},
     "output_type": "execute_result"
    }
   ],
   "source": [
    "clean_neg.pop('хороший')\n",
    "clean_neg.pop('хорошо')"
   ]
  },
  {
   "cell_type": "markdown",
   "id": "50792650",
   "metadata": {},
   "source": [
    "# Тональность"
   ]
  },
  {
   "cell_type": "code",
   "execution_count": 325,
   "id": "c7ba9850",
   "metadata": {},
   "outputs": [],
   "source": [
    "import collections\n",
    "from collections import Counter"
   ]
  },
  {
   "cell_type": "code",
   "execution_count": 326,
   "id": "7761c2b3",
   "metadata": {},
   "outputs": [],
   "source": [
    "freq_lists = {}\n",
    "freq_lists['negative'] = clean_neg\n",
    "freq_lists['positive'] = clean_pos"
   ]
  },
  {
   "cell_type": "code",
   "execution_count": 327,
   "id": "53b5568c",
   "metadata": {},
   "outputs": [],
   "source": [
    "def simple_snt_detect(freq_lists, text):\n",
    "    counts = Counter()\n",
    "    for snt, freq_list in freq_lists.items():\n",
    "        freq_list = Counter(freq_list)\n",
    "        for word in nltk.word_tokenize(' '.join(m.lemmatize(txt))):\n",
    "            counts[snt] += int(freq_list[word] > 0)\n",
    "    return counts.most_common()"
   ]
  },
  {
   "cell_type": "markdown",
   "id": "d5f607c2",
   "metadata": {},
   "source": [
    "# Оценка"
   ]
  },
  {
   "cell_type": "code",
   "execution_count": 210,
   "id": "d5592f51",
   "metadata": {},
   "outputs": [
    {
     "name": "stdout",
     "output_type": "stream",
     "text": [
      "Requirement already satisfied: sklearn in /Library/Frameworks/Python.framework/Versions/3.9/lib/python3.9/site-packages (0.0)\n",
      "Requirement already satisfied: scikit-learn in /Library/Frameworks/Python.framework/Versions/3.9/lib/python3.9/site-packages (from sklearn) (1.0.1)\n",
      "Requirement already satisfied: threadpoolctl>=2.0.0 in /Library/Frameworks/Python.framework/Versions/3.9/lib/python3.9/site-packages (from scikit-learn->sklearn) (3.0.0)\n",
      "Requirement already satisfied: joblib>=0.11 in /Library/Frameworks/Python.framework/Versions/3.9/lib/python3.9/site-packages (from scikit-learn->sklearn) (1.0.1)\n",
      "Requirement already satisfied: numpy>=1.14.6 in /Library/Frameworks/Python.framework/Versions/3.9/lib/python3.9/site-packages (from scikit-learn->sklearn) (1.21.2)\n",
      "Requirement already satisfied: scipy>=1.1.0 in /Library/Frameworks/Python.framework/Versions/3.9/lib/python3.9/site-packages (from scikit-learn->sklearn) (1.7.2)\n",
      "\u001b[33mWARNING: You are using pip version 21.0.1; however, version 22.2.2 is available.\n",
      "You should consider upgrading via the '/Library/Frameworks/Python.framework/Versions/3.9/bin/python3.9 -m pip install --upgrade pip' command.\u001b[0m\n"
     ]
    }
   ],
   "source": [
    "!pip3 install sklearn"
   ]
  },
  {
   "cell_type": "code",
   "execution_count": 211,
   "id": "30d4d80f",
   "metadata": {},
   "outputs": [],
   "source": [
    "from sklearn.metrics import accuracy_score"
   ]
  },
  {
   "cell_type": "code",
   "execution_count": 310,
   "id": "eb18baa9",
   "metadata": {},
   "outputs": [],
   "source": [
    "sentiment = ('negative', 'positive')\n",
    "\n",
    "def get_comment_for_snt(snt, page):\n",
    "    if snt == 'negative':\n",
    "        final = get_neg(page)\n",
    "    elif snt == 'positive':\n",
    "        final = get_pos(page)\n",
    "    return final[0:5]    "
   ]
  },
  {
   "cell_type": "code",
   "execution_count": 328,
   "id": "2873db6c",
   "metadata": {},
   "outputs": [],
   "source": [
    "def test_simple_snt_detect(freq_lists, page):\n",
    "    results = []  # сюда будем писать результаты\n",
    "    gold = []     # сюда будем писать исходную тональность\n",
    "    for snt in sentiment:\n",
    "        for text in get_comment_for_snt(snt, page):\n",
    "            predicted_snt = simple_snt_detect(freq_lists, text)[0][0]\n",
    "            results.append(predicted_snt)\n",
    "            gold.append(snt)\n",
    "    print(\"RESULTS:\")\n",
    "    print(\"%d sentiments\" % len(sentiment))\n",
    "    print(\"Accuracy: %.4f\" % accuracy_score(results, gold))  "
   ]
  },
  {
   "cell_type": "code",
   "execution_count": 329,
   "id": "312445f2",
   "metadata": {},
   "outputs": [
    {
     "name": "stdout",
     "output_type": "stream",
     "text": [
      "RESULTS:\n",
      "2 sentiments\n",
      "Accuracy: 0.5000\n"
     ]
    }
   ],
   "source": [
    "test_simple_snt_detect(freq_lists, get_parser(test_url))"
   ]
  }
 ],
 "metadata": {
  "kernelspec": {
   "display_name": "Python 3 (ipykernel)",
   "language": "python",
   "name": "python3"
  },
  "language_info": {
   "codemirror_mode": {
    "name": "ipython",
    "version": 3
   },
   "file_extension": ".py",
   "mimetype": "text/x-python",
   "name": "python",
   "nbconvert_exporter": "python",
   "pygments_lexer": "ipython3",
   "version": "3.9.2"
  }
 },
 "nbformat": 4,
 "nbformat_minor": 5
}
